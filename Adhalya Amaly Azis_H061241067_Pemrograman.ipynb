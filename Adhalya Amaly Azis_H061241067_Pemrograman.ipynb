{
 "cells": [
  {
   "cell_type": "markdown",
   "metadata": {},
   "source": [
    "## Tugas Pengantar Pemrograman (Kelas B)"
   ]
  },
  {
   "cell_type": "markdown",
   "metadata": {},
   "source": [
    "##### Nama: Adhalya Amaly Azis\n",
    "##### NIM: H061241067\n",
    "---"
   ]
  },
  {
   "cell_type": "markdown",
   "metadata": {},
   "source": [
    "**Soal 1**: Seorang pelanggan membeli baju di toko. Jika 3 angka terakhir NIM Anda > 600, dia mendapatkan diskon 20%. Jika tidak, diskon 10%. Buat program untuk menghitung total harga.\n",
    "\n",
    "**Soal 2**: Seorang siswa ingin menentukan apakah dia mendapatkan beasiswa. Jika 3 angka terakhir NIM Anda genap, syaratnya nilai >= 85. Jika ganjil, syaratnya nilai >= 80. Buat program untuk menentukan hasilnya.\n",
    "\n",
    "**Soal 3**: Sebuah toko online memberikan diskon 15% jika total belanja di atas Rp 300.000 dikurangi 3 angka terakhir NIM Anda. Buat program untuk menghitung total harga.\n",
    "\n",
    "**Soal 4**: Seorang karyawan mendapatkan bonus jika bekerja lebih dari 50 jam. Bonusnya adalah 15% dari gaji ditambah 3 angka terakhir NIM Anda. Buat program untuk menghitung gaji karyawan.\n",
    "\n",
    "**Soal 5**: Sebuah restoran memberikan diskon 10% untuk pesanan di atas Rp 100.000 ditambah 3 angka terakhir NIM Anda. Buat program untuk menghitung total biaya.\n",
    "\n",
    "**Soal 6**: Seorang pelari ingin menentukan apakah dia berhasil memenuhi target latihan. Jika jarak lari > (3 angka terakhir NIM Anda % 10) km, dia berhasil. Buat program untuk menentukan hasil latihannya.\n",
    "\n",
    "**Soal 7**: Sebuah bioskop memberikan diskon 50% untuk pelajar jika 3 angka terakhir NIM Anda genap. Jika ganjil, diskon 25%. Buat program untuk menentukan harga tiket.\n",
    "\n",
    "**Soal 8**: Sebuah toko buku memberikan diskon 25% jika pelanggan membeli lebih dari 10 buku dan 3 angka terakhir NIM Anda > 400. Jika tidak, diskon 15%. Buat program untuk menghitung total harga.\n",
    "\n",
    "**Soal 9**: Seorang mahasiswa ingin menentukan apakah suatu bilangan positif, negatif, atau nol. Jika 3 angka terakhir NIM Anda genap, cetak \"Positif\". Jika ganjil, cetak \"Negatif\".\n",
    "\n",
    "**Soal 10**: Sebuah aplikasi menentukan apakah suatu bilangan adalah bilangan Armstrong. Jika 3 angka terakhir NIM Anda genap, cetak \"Armstrong\". Jika ganjil, cetak \"Bukan Armstrong\".\n",
    "\n",
    "**Soal 11**: Seorang pelanggan ingin mencetak daftar belanjaannya sebanyak (3 angka terakhir NIM Anda % 7) kali. Buat program untuk mencetak daftar belanja tersebut.\n",
    "\n",
    "**Soal 12**: Seorang guru ingin mencetak angka dari 1 sampai 50, tetapi hanya bilangan kelipatan (3 angka terakhir NIM Anda % 6). Buat program untuk mencetak bilangan tersebut.\n",
    "\n",
    "**Soal 13**: Seorang penjual ingin mencetak tabel perkalian (3 angka terakhir NIM Anda % 8). Buat program untuk mencetak tabel tersebut.\n",
    "\n",
    "**Soal 14**: Seorang pelukis ingin mencetak pola bintang persegi dengan sisi (3 angka terakhir NIM Anda % 5). Buat program untuk mencetak pola tersebut.\n",
    "\n",
    "**Soal 15**: Seorang peneliti ingin mencetak bilangan komposit dari 1 sampai (3 angka terakhir NIM Anda). Buat program untuk mencetak bilangan tersebut.\n",
    "\n",
    "**Soal 16**: Seorang programmer ingin mencetak deret kuadrat dari 1 sampai (3 angka terakhir NIM Anda % 10). Buat program untuk mencetak deret tersebut.\n",
    "\n",
    "**Soal 17**: Seorang petani ingin mencetak bilangan kelipatan (3 angka terakhir NIM Anda % 7) dari 1 sampai 100. Buat program untuk mencetak bilangan tersebut.\n",
    "\n",
    "**Soal 18**: Seorang siswa ingin mencetak bilangan genap dari 2 sampai (3 angka terakhir NIM Anda). Buat program untuk mencetak bilangan tersebut.\n",
    "\n",
    "**Soal 19**: Seorang penjual ingin mencetak faktorial dari (3 angka terakhir NIM Anda % 6). Buat program untuk mencetak faktorial tersebut.\n",
    "\n",
    "**Soal 20**: Seorang pelanggan ingin mencetak \"Selamat Datang\" sebanyak (3 angka terakhir NIM Anda % 4) kali. Buat program untuk mencetak pesan tersebut."
   ]
  },
  {
   "cell_type": "markdown",
   "metadata": {},
   "source": [
    "# Soal 1"
   ]
  },
  {
   "cell_type": "code",
   "execution_count": 42,
   "metadata": {},
   "outputs": [
    {
     "name": "stdout",
     "output_type": "stream",
     "text": [
      "NIM: H061241067\n",
      "Harga baju: 150000\n",
      "Total harga setelah diskon adalah: 135000.00\n"
     ]
    }
   ],
   "source": [
    "def hitung_total_harga(harga_asli, nim):\n",
    "    nim_str = ''.join(filter(str.isdigit, str(nim)))\n",
    "    tiga_angka_terakhir = int(nim_str[-3:]) if len(nim_str) >= 3 else 0\n",
    "    if tiga_angka_terakhir > 600:\n",
    "        diskon = 0.20  \n",
    "    else:\n",
    "        diskon = 0.10  \n",
    "    total_harga = harga_asli * (1 - diskon)\n",
    "    return total_harga\n",
    "nim = \"H061241067\"\n",
    "harga_asli = 150000\n",
    "total_harga = hitung_total_harga(harga_asli, nim)\n",
    "print(f\"NIM: {nim}\")\n",
    "print(f\"Harga baju: {harga_asli}\")\n",
    "print(f\"Total harga setelah diskon adalah: {total_harga:.2f}\")"
   ]
  },
  {
   "cell_type": "markdown",
   "metadata": {},
   "source": [
    "# Soal 2"
   ]
  },
  {
   "cell_type": "code",
   "execution_count": 43,
   "metadata": {},
   "outputs": [
    {
     "name": "stdout",
     "output_type": "stream",
     "text": [
      "NIM: H061241067\n",
      "Nilai: 85\n",
      "Anda mendapatkan beasiswa.\n"
     ]
    }
   ],
   "source": [
    "def cek_beasiswa(nim, nilai):\n",
    "    nim_str = ''.join(filter(str.isdigit, str(nim)))\n",
    "    tiga_angka_terakhir = int(nim_str[-3:]) if len(nim_str) >= 3 else 0\n",
    "    if tiga_angka_terakhir % 2 == 0:  \n",
    "        if nilai >= 85:\n",
    "            return \"Anda mendapatkan beasiswa.\"\n",
    "        else:\n",
    "            return \"Anda tidak mendapatkan beasiswa.\"\n",
    "    else:  \n",
    "        if nilai >= 80:\n",
    "            return \"Anda mendapatkan beasiswa.\"\n",
    "        else:\n",
    "            return \"Anda tidak mendapatkan beasiswa.\"\n",
    "nim = \"H061241067\"\n",
    "nilai = 85\n",
    "hasil = cek_beasiswa(nim, nilai)\n",
    "print(f\"NIM: {nim}\")\n",
    "print(f\"Nilai: {nilai}\")\n",
    "print(hasil)"
   ]
  },
  {
   "cell_type": "markdown",
   "metadata": {},
   "source": [
    "# Soal 3"
   ]
  },
  {
   "cell_type": "code",
   "execution_count": 44,
   "metadata": {},
   "outputs": [
    {
     "name": "stdout",
     "output_type": "stream",
     "text": [
      "NIM: H061241067\n",
      "Total belanja: 350000\n",
      "Total harga setelah diskon adalah: 297500.00\n"
     ]
    }
   ],
   "source": [
    "def hitung_total_harga(harga_asli, nim):\n",
    "    nim_str = ''.join(filter(str.isdigit, str(nim)))  \n",
    "    tiga_angka_terakhir = int(nim_str[-3:]) if len(nim_str) >= 3 else 0\n",
    "    batas_diskon = 300000 - tiga_angka_terakhir\n",
    "    if harga_asli > batas_diskon:\n",
    "        diskon = 0.15  \n",
    "    else:\n",
    "        diskon = 0.0 \n",
    "    total_harga = harga_asli * (1 - diskon)\n",
    "    return total_harga\n",
    "nim = \"H061241067\"\n",
    "total_belanja = 350000\n",
    "total_harga = hitung_total_harga(total_belanja, nim)\n",
    "print(f\"NIM: {nim}\")\n",
    "print(f\"Total belanja: {total_belanja}\")\n",
    "print(f\"Total harga setelah diskon adalah: {total_harga:.2f}\")"
   ]
  },
  {
   "cell_type": "markdown",
   "metadata": {},
   "source": [
    "# Soal 4"
   ]
  },
  {
   "cell_type": "code",
   "execution_count": 45,
   "metadata": {},
   "outputs": [
    {
     "name": "stdout",
     "output_type": "stream",
     "text": [
      "NIM: H061241067\n",
      "Total jam kerja: 53 jam\n",
      "Total gaji karyawan adalah: 4025067.00\n"
     ]
    }
   ],
   "source": [
    "def hitung_gaji(total_jam_kerja, gaji_pokok, nim):\n",
    "    nim_str = ''.join(filter(str.isdigit, str(nim)))  \n",
    "    tiga_angka_terakhir = int(nim_str[-3:]) if len(nim_str) >= 3 else 0\n",
    "    if total_jam_kerja > 50:\n",
    "        bonus = (0.15 * gaji_pokok) + tiga_angka_terakhir\n",
    "    else:\n",
    "        bonus = 0  \n",
    "    total_gaji = gaji_pokok + bonus\n",
    "    return total_gaji\n",
    "nim = \"H061241067\"\n",
    "total_jam_kerja = 53\n",
    "gaji_pokok = 3500000 \n",
    "total_gaji = hitung_gaji(total_jam_kerja, gaji_pokok, nim)\n",
    "print(f\"NIM: {nim}\")\n",
    "print(f\"Total jam kerja: {total_jam_kerja} jam\")\n",
    "print(f\"Total gaji karyawan adalah: {total_gaji:.2f}\")"
   ]
  },
  {
   "cell_type": "markdown",
   "metadata": {},
   "source": [
    "# Soal 5"
   ]
  },
  {
   "cell_type": "code",
   "execution_count": 46,
   "metadata": {},
   "outputs": [
    {
     "name": "stdout",
     "output_type": "stream",
     "text": [
      "NIM: H061241067\n",
      "Total biaya setelah diskon adalah: 225000.00\n"
     ]
    }
   ],
   "source": [
    "def hitung_total_biaya(total_pesanan, nim):\n",
    "    nim_str = ''.join(filter(str.isdigit, str(nim))) \n",
    "    tiga_angka_terakhir = int(nim_str[-3:]) if len(nim_str) >= 3 else 0\n",
    "    batas_diskon = 100000 + tiga_angka_terakhir\n",
    "    if total_pesanan > batas_diskon:\n",
    "        diskon = 0.10  \n",
    "    else:\n",
    "        diskon = 0.0  \n",
    "    total_biaya = total_pesanan * (1 - diskon)\n",
    "    return total_biaya\n",
    "total_pesanan = 250000\n",
    "nim = \"H061241067\"\n",
    "total_biaya = hitung_total_biaya(total_pesanan, nim)\n",
    "print(f\"NIM: {nim}\")\n",
    "print(f\"Total biaya setelah diskon adalah: {total_biaya:.2f}\")"
   ]
  },
  {
   "cell_type": "markdown",
   "metadata": {},
   "source": [
    "# Soal 6"
   ]
  },
  {
   "cell_type": "code",
   "execution_count": 47,
   "metadata": {},
   "outputs": [
    {
     "name": "stdout",
     "output_type": "stream",
     "text": [
      "NIM: H061241067\n",
      "Jarak lari: 23 km\n",
      "Target latihan: 7 km\n",
      "Anda berhasil memenuhi target latihan!\n"
     ]
    }
   ],
   "source": [
    "def cek_target_latihan(jarak_lari, nim):\n",
    "    nim_str = ''.join(filter(str.isdigit, str(nim)))  \n",
    "    tiga_angka_terakhir = int(nim_str[-3:]) if len(nim_str) >= 3 else 0\n",
    "    target = tiga_angka_terakhir % 10\n",
    "    if jarak_lari > target:\n",
    "        return True, target\n",
    "    else:\n",
    "        return False, target\n",
    "nim = \"H061241067\"\n",
    "jarak_lari = 23  \n",
    "berhasil, target = cek_target_latihan(jarak_lari, nim)\n",
    "print(f\"NIM: {nim}\")\n",
    "print(f\"Jarak lari: {jarak_lari} km\")\n",
    "print(f\"Target latihan: {target} km\")\n",
    "\n",
    "if berhasil:\n",
    "    print(\"Anda berhasil memenuhi target latihan!\")\n",
    "else:\n",
    "    print(\"Anda tidak berhasil memenuhi target latihan.\")"
   ]
  },
  {
   "cell_type": "markdown",
   "metadata": {},
   "source": [
    "# Soal 7"
   ]
  },
  {
   "cell_type": "code",
   "execution_count": 48,
   "metadata": {},
   "outputs": [
    {
     "name": "stdout",
     "output_type": "stream",
     "text": [
      "NIM: H061241067\n",
      "Harga tiket setelah diskon adalah: 18750.00\n"
     ]
    }
   ],
   "source": [
    "def hitung_harga_tiket(harga_asli, nim):\n",
    "    nim_str = ''.join(filter(str.isdigit, str(nim))) \n",
    "    tiga_angka_terakhir = int(nim_str[-3:]) if len(nim_str) >= 3 else 0\n",
    "    if tiga_angka_terakhir % 2 == 0:  \n",
    "        diskon = 0.50  \n",
    "    else:  \n",
    "        diskon = 0.25 \n",
    "    total_harga = harga_asli * (1 - diskon)\n",
    "    return total_harga\n",
    "harga_asli = 25000  \n",
    "nim = \"H061241067\"   \n",
    "total_harga = hitung_harga_tiket(harga_asli, nim)\n",
    "print(f\"NIM: {nim}\")\n",
    "print(f\"Harga tiket setelah diskon adalah: {total_harga:.2f}\")"
   ]
  },
  {
   "cell_type": "markdown",
   "metadata": {},
   "source": [
    "# Soal 8"
   ]
  },
  {
   "cell_type": "code",
   "execution_count": 49,
   "metadata": {},
   "outputs": [
    {
     "name": "stdout",
     "output_type": "stream",
     "text": [
      "NIM: H061241067\n",
      "Jumlah buku: 15\n",
      "Harga per buku: 300000\n",
      "Total harga setelah diskon adalah: 3825000.00\n"
     ]
    }
   ],
   "source": [
    "def hitung_total_harga(jumlah_buku, harga_per_buku, nim):\n",
    "    nim_str = ''.join(filter(str.isdigit, str(nim)))  \n",
    "    tiga_angka_terakhir = int(nim_str[-3:]) if len(nim_str) >= 3 else 0\n",
    "    total_harga = jumlah_buku * harga_per_buku\n",
    "    if jumlah_buku > 10 and tiga_angka_terakhir > 400:\n",
    "        diskon = 0.25 \n",
    "    else:\n",
    "        diskon = 0.15  \n",
    "    total_harga_setelah_diskon = total_harga * (1 - diskon)\n",
    "    return total_harga_setelah_diskon\n",
    "nim = \"H061241067\"  \n",
    "jumlah_buku = 15   \n",
    "harga_per_buku = 300000  \n",
    "total_harga = hitung_total_harga(jumlah_buku, harga_per_buku, nim)\n",
    "print(f\"NIM: {nim}\")\n",
    "print(f\"Jumlah buku: {jumlah_buku}\")\n",
    "print(f\"Harga per buku: {harga_per_buku}\")\n",
    "print(f\"Total harga setelah diskon adalah: {total_harga:.2f}\")"
   ]
  },
  {
   "cell_type": "markdown",
   "metadata": {},
   "source": [
    "# Soal 9"
   ]
  },
  {
   "cell_type": "code",
   "execution_count": 50,
   "metadata": {},
   "outputs": [
    {
     "name": "stdout",
     "output_type": "stream",
     "text": [
      "NIM: H061241067\n",
      "Hasil: Negatif\n"
     ]
    }
   ],
   "source": [
    "def cek_bilangan(nim):\n",
    "    nim_str = ''.join(filter(str.isdigit, str(nim))) \n",
    "    tiga_angka_terakhir = int(nim_str[-3:]) if len(nim_str) >= 3 else 0\n",
    "    if tiga_angka_terakhir % 2 == 0: \n",
    "        return \"Positif\"\n",
    "    else:  \n",
    "        return \"Negatif\"\n",
    "nim = \"H061241067\"  \n",
    "hasil = cek_bilangan(nim)\n",
    "print(f\"NIM: {nim}\")\n",
    "print(f\"Hasil: {hasil}\")"
   ]
  },
  {
   "cell_type": "markdown",
   "metadata": {},
   "source": [
    "# Soal 10"
   ]
  },
  {
   "cell_type": "code",
   "execution_count": 51,
   "metadata": {},
   "outputs": [
    {
     "name": "stdout",
     "output_type": "stream",
     "text": [
      "NIM: H061241067\n",
      "Hasil: Bukan Armstrong\n"
     ]
    }
   ],
   "source": [
    "def cek_bilangan_armstrong(nim):\n",
    "    nim_str = ''.join(filter(str.isdigit, str(nim)))  \n",
    "    tiga_angka_terakhir = int(nim_str[-3:]) if len(nim_str) >= 3 else 0\n",
    "    if tiga_angka_terakhir % 2 == 0:  \n",
    "        return \"Armstrong\"\n",
    "    else: \n",
    "        return \"Bukan Armstrong\"\n",
    "nim = \"H061241067\" \n",
    "hasil = cek_bilangan_armstrong(nim)\n",
    "print(f\"NIM: {nim}\")\n",
    "print(f\"Hasil: {hasil}\")"
   ]
  },
  {
   "cell_type": "markdown",
   "metadata": {},
   "source": [
    "\n",
    "# Soal 11"
   ]
  },
  {
   "cell_type": "code",
   "execution_count": 52,
   "metadata": {},
   "outputs": [
    {
     "name": "stdout",
     "output_type": "stream",
     "text": [
      "Daftar belanja akan dicetak sebanyak 4 kali:\n",
      "Cetakan 1: ['Bumbu', 'Minyak', 'Sayur', 'Daging']\n",
      "Cetakan 2: ['Bumbu', 'Minyak', 'Sayur', 'Daging']\n",
      "Cetakan 3: ['Bumbu', 'Minyak', 'Sayur', 'Daging']\n",
      "Cetakan 4: ['Bumbu', 'Minyak', 'Sayur', 'Daging']\n"
     ]
    }
   ],
   "source": [
    "def cetak_daftar_belanja(nim, daftar_belanja):\n",
    "    nim_str = ''.join(filter(str.isdigit, str(nim)))  \n",
    "    tiga_angka_terakhir = int(nim_str[-3:]) if len(nim_str) >= 3 else 0\n",
    "    jumlah_cetak = tiga_angka_terakhir % 7\n",
    "    print(f\"Daftar belanja akan dicetak sebanyak {jumlah_cetak} kali:\")\n",
    "    for i in range(jumlah_cetak):\n",
    "        print(f\"Cetakan {i + 1}: {daftar_belanja}\")\n",
    "nim = \"H061241067\" \n",
    "daftar_belanja = [\"Bumbu\", \"Minyak\", \"Sayur\", \"Daging\"] \n",
    "cetak_daftar_belanja(nim, daftar_belanja)"
   ]
  },
  {
   "cell_type": "markdown",
   "metadata": {},
   "source": [
    "# Soal 12"
   ]
  },
  {
   "cell_type": "code",
   "execution_count": 53,
   "metadata": {},
   "outputs": [
    {
     "name": "stdout",
     "output_type": "stream",
     "text": [
      "Kelipatan yang akan dicetak: 1\n",
      "Bilangan kelipatan dari 1 dari 1 sampai 50:\n",
      "1\n",
      "2\n",
      "3\n",
      "4\n",
      "5\n",
      "6\n",
      "7\n",
      "8\n",
      "9\n",
      "10\n",
      "11\n",
      "12\n",
      "13\n",
      "14\n",
      "15\n",
      "16\n",
      "17\n",
      "18\n",
      "19\n",
      "20\n",
      "21\n",
      "22\n",
      "23\n",
      "24\n",
      "25\n",
      "26\n",
      "27\n",
      "28\n",
      "29\n",
      "30\n",
      "31\n",
      "32\n",
      "33\n",
      "34\n",
      "35\n",
      "36\n",
      "37\n",
      "38\n",
      "39\n",
      "40\n",
      "41\n",
      "42\n",
      "43\n",
      "44\n",
      "45\n",
      "46\n",
      "47\n",
      "48\n",
      "49\n",
      "50\n"
     ]
    }
   ],
   "source": [
    "def cetak_kelipatan(nim):\n",
    "    nim_str = ''.join(filter(str.isdigit, str(nim)))  \n",
    "    tiga_angka_terakhir = int(nim_str[-3:]) if len(nim_str) >= 3 else 0\n",
    "    kelipatan = tiga_angka_terakhir % 6\n",
    "    print(f\"Kelipatan yang akan dicetak: {kelipatan}\")\n",
    "    print(\"Bilangan kelipatan dari\", kelipatan, \"dari 1 sampai 50:\")\n",
    "    for i in range(1, 51):\n",
    "        if i % kelipatan == 0 and kelipatan != 0:  \n",
    "            print(i)\n",
    "nim = \"H061241067\"  \n",
    "cetak_kelipatan(nim)"
   ]
  },
  {
   "cell_type": "markdown",
   "metadata": {},
   "source": [
    "# Soal 13"
   ]
  },
  {
   "cell_type": "code",
   "execution_count": 54,
   "metadata": {},
   "outputs": [
    {
     "name": "stdout",
     "output_type": "stream",
     "text": [
      "Tabel Perkalian untuk 3:\n",
      "3 x 1 = 3\n",
      "3 x 2 = 6\n",
      "3 x 3 = 9\n",
      "3 x 4 = 12\n",
      "3 x 5 = 15\n",
      "3 x 6 = 18\n",
      "3 x 7 = 21\n",
      "3 x 8 = 24\n",
      "3 x 9 = 27\n",
      "3 x 10 = 30\n"
     ]
    }
   ],
   "source": [
    "def cetak_tabel_perkalian(nim):\n",
    "    nim_str = ''.join(filter(str.isdigit, str(nim)))  \n",
    "    tiga_angka_terakhir = int(nim_str[-3:]) if len(nim_str) >= 3 else 0\n",
    "    bilangan = tiga_angka_terakhir % 8\n",
    "    print(f\"Tabel Perkalian untuk {bilangan}:\")\n",
    "    for i in range(1, 11):  \n",
    "        hasil = bilangan * i\n",
    "        print(f\"{bilangan} x {i} = {hasil}\")\n",
    "nim = \"H061241067\"\n",
    "cetak_tabel_perkalian(nim)"
   ]
  },
  {
   "cell_type": "markdown",
   "metadata": {},
   "source": [
    "# Soal 14"
   ]
  },
  {
   "cell_type": "code",
   "execution_count": 55,
   "metadata": {},
   "outputs": [
    {
     "name": "stdout",
     "output_type": "stream",
     "text": [
      "Pola bintang dengan sisi 2:\n",
      "* * \n",
      "* * \n"
     ]
    }
   ],
   "source": [
    "def cetak_pola_bintang(nim):\n",
    "    nim_str = ''.join(filter(str.isdigit, str(nim)))  \n",
    "    tiga_angka_terakhir = int(nim_str[-3:]) if len(nim_str) >= 3 else 0\n",
    "    sisi = tiga_angka_terakhir % 5\n",
    "    print(f\"Pola bintang dengan sisi {sisi}:\")\n",
    "    for i in range(sisi):\n",
    "        print('* ' * sisi)\n",
    "nim = \"H061241067\"  \n",
    "cetak_pola_bintang(nim)"
   ]
  },
  {
   "cell_type": "markdown",
   "metadata": {},
   "source": [
    "# Soal 15"
   ]
  },
  {
   "cell_type": "code",
   "execution_count": 56,
   "metadata": {},
   "outputs": [
    {
     "name": "stdout",
     "output_type": "stream",
     "text": [
      "Bilangan komposit dari 1 sampai 67:\n",
      "4\n",
      "6\n",
      "8\n",
      "9\n",
      "10\n",
      "12\n",
      "14\n",
      "15\n",
      "16\n",
      "18\n",
      "20\n",
      "21\n",
      "22\n",
      "24\n",
      "25\n",
      "26\n",
      "27\n",
      "28\n",
      "30\n",
      "32\n",
      "33\n",
      "34\n",
      "35\n",
      "36\n",
      "38\n",
      "39\n",
      "40\n",
      "42\n",
      "44\n",
      "45\n",
      "46\n",
      "48\n",
      "49\n",
      "50\n",
      "51\n",
      "52\n",
      "54\n",
      "55\n",
      "56\n",
      "57\n",
      "58\n",
      "60\n",
      "62\n",
      "63\n",
      "64\n",
      "65\n",
      "66\n"
     ]
    }
   ],
   "source": [
    "def is_komposit(n):\n",
    "    if n < 4: \n",
    "        return False\n",
    "    for i in range(2, int(n**0.5) + 1):\n",
    "        if n % i == 0:\n",
    "            return True\n",
    "    return False\n",
    "\n",
    "def cetak_bilangan_komposit(nim):\n",
    "    nim_str = ''.join(filter(str.isdigit, str(nim)))  \n",
    "    tiga_angka_terakhir = int(nim_str[-3:]) if len(nim_str) >= 3 else 0\n",
    "    print(f\"Bilangan komposit dari 1 sampai {tiga_angka_terakhir}:\")\n",
    "    for i in range(1, tiga_angka_terakhir + 1):\n",
    "        if is_komposit(i):\n",
    "            print(i)\n",
    "nim = \"H061241067\"  \n",
    "cetak_bilangan_komposit(nim)"
   ]
  },
  {
   "cell_type": "markdown",
   "metadata": {},
   "source": [
    "# Soal 16"
   ]
  },
  {
   "cell_type": "code",
   "execution_count": 57,
   "metadata": {},
   "outputs": [
    {
     "name": "stdout",
     "output_type": "stream",
     "text": [
      "Deret kuadrat dari 1 sampai 7:\n",
      "1\n",
      "4\n",
      "9\n",
      "16\n",
      "25\n",
      "36\n",
      "49\n"
     ]
    }
   ],
   "source": [
    "def cetak_deret_kuadrat(nim):\n",
    "    nim_str = ''.join(filter(str.isdigit, str(nim)))  \n",
    "    tiga_angka_terakhir = int(nim_str[-3:]) if len(nim_str) >= 3 else 0\n",
    "    batas = tiga_angka_terakhir % 10\n",
    "    print(f\"Deret kuadrat dari 1 sampai {batas}:\")\n",
    "    for i in range(1, batas + 1):\n",
    "        kuadrat = i ** 2\n",
    "        print(kuadrat)\n",
    "nim = \"H061241067\"  \n",
    "cetak_deret_kuadrat(nim)"
   ]
  },
  {
   "cell_type": "markdown",
   "metadata": {},
   "source": [
    "# Soal 17"
   ]
  },
  {
   "cell_type": "code",
   "execution_count": 58,
   "metadata": {},
   "outputs": [
    {
     "name": "stdout",
     "output_type": "stream",
     "text": [
      "Kelipatan yang akan dicetak: 4\n",
      "Bilangan kelipatan dari 4 dari 1 sampai 100:\n",
      "4\n",
      "8\n",
      "12\n",
      "16\n",
      "20\n",
      "24\n",
      "28\n",
      "32\n",
      "36\n",
      "40\n",
      "44\n",
      "48\n",
      "52\n",
      "56\n",
      "60\n",
      "64\n",
      "68\n",
      "72\n",
      "76\n",
      "80\n",
      "84\n",
      "88\n",
      "92\n",
      "96\n",
      "100\n"
     ]
    }
   ],
   "source": [
    "def cetak_kelipatan(nim):\n",
    "    nim_str = ''.join(filter(str.isdigit, str(nim)))  \n",
    "    tiga_angka_terakhir = int(nim_str[-3:]) if len(nim_str) >= 3 else 0\n",
    "    kelipatan = tiga_angka_terakhir % 7\n",
    "    print(f\"Kelipatan yang akan dicetak: {kelipatan}\")\n",
    "    print(f\"Bilangan kelipatan dari {kelipatan} dari 1 sampai 100:\")\n",
    "    for i in range(1, 101):\n",
    "        if i % kelipatan == 0 and kelipatan != 0:  \n",
    "            print(i)\n",
    "nim = \"H061241067\"  \n",
    "cetak_kelipatan(nim)"
   ]
  },
  {
   "cell_type": "markdown",
   "metadata": {},
   "source": [
    "# Soal 18"
   ]
  },
  {
   "cell_type": "code",
   "execution_count": 59,
   "metadata": {},
   "outputs": [
    {
     "name": "stdout",
     "output_type": "stream",
     "text": [
      "Bilangan genap dari 2 sampai 67:\n",
      "2\n",
      "4\n",
      "6\n",
      "8\n",
      "10\n",
      "12\n",
      "14\n",
      "16\n",
      "18\n",
      "20\n",
      "22\n",
      "24\n",
      "26\n",
      "28\n",
      "30\n",
      "32\n",
      "34\n",
      "36\n",
      "38\n",
      "40\n",
      "42\n",
      "44\n",
      "46\n",
      "48\n",
      "50\n",
      "52\n",
      "54\n",
      "56\n",
      "58\n",
      "60\n",
      "62\n",
      "64\n",
      "66\n"
     ]
    }
   ],
   "source": [
    "def cetak_bilangan_genap(nim):\n",
    "    nim_str = ''.join(filter(str.isdigit, str(nim)))  \n",
    "    tiga_angka_terakhir = int(nim_str[-3:]) if len(nim_str) >= 3 else 0\n",
    "    print(f\"Bilangan genap dari 2 sampai {tiga_angka_terakhir}:\")\n",
    "    for i in range(2, tiga_angka_terakhir + 1, 2):\n",
    "        print(i)\n",
    "nim = \"H061241067\"  \n",
    "cetak_bilangan_genap(nim)"
   ]
  },
  {
   "cell_type": "markdown",
   "metadata": {},
   "source": [
    "# Soal 19"
   ]
  },
  {
   "cell_type": "code",
   "execution_count": 60,
   "metadata": {},
   "outputs": [
    {
     "name": "stdout",
     "output_type": "stream",
     "text": [
      "Faktorial dari 1 adalah: 1\n"
     ]
    }
   ],
   "source": [
    "def faktorial(n):\n",
    "    if n < 0:\n",
    "        return None\n",
    "    elif n == 0 or n == 1:\n",
    "        return 1\n",
    "    else:\n",
    "        hasil = 1\n",
    "        for i in range(2, n + 1):\n",
    "            hasil *= i\n",
    "        return hasil\n",
    "\n",
    "def cetak_faktorial(nim):\n",
    "    nim_str = ''.join(filter(str.isdigit, str(nim)))  \n",
    "    tiga_angka_terakhir = int(nim_str[-3:]) if len(nim_str) >= 3 else 0\n",
    "    nilai = tiga_angka_terakhir % 6\n",
    "    faktorial_nilai = faktorial(nilai)\n",
    "    print(f\"Faktorial dari {nilai} adalah: {faktorial_nilai}\")\n",
    "nim = \"H061241067\"  \n",
    "cetak_faktorial(nim)"
   ]
  },
  {
   "cell_type": "markdown",
   "metadata": {},
   "source": [
    "# Soal 20"
   ]
  },
  {
   "cell_type": "code",
   "execution_count": 61,
   "metadata": {},
   "outputs": [
    {
     "name": "stdout",
     "output_type": "stream",
     "text": [
      "Pesan akan dicetak sebanyak 3 kali:\n",
      "Selamat Datang\n",
      "Selamat Datang\n",
      "Selamat Datang\n"
     ]
    }
   ],
   "source": [
    "def cetak_pesan(nim):\n",
    "   nim_str = ''.join(filter(str.isdigit, str(nim)))  \n",
    "   tiga_angka_terakhir = int(nim_str[-3:]) if len(nim_str) >= 3 else 0\n",
    "   jumlah_cetak = tiga_angka_terakhir % 4\n",
    "   print(f\"Pesan akan dicetak sebanyak {jumlah_cetak} kali:\")\n",
    "   for _ in range(jumlah_cetak):\n",
    "        print(\"Selamat Datang\")\n",
    "nim = \"H061241067\" \n",
    "cetak_pesan(nim)"
   ]
  }
 ],
 "metadata": {
  "kernelspec": {
   "display_name": "Python 3",
   "language": "python",
   "name": "python3"
  },
  "language_info": {
   "codemirror_mode": {
    "name": "ipython",
    "version": 3
   },
   "file_extension": ".py",
   "mimetype": "text/x-python",
   "name": "python",
   "nbconvert_exporter": "python",
   "pygments_lexer": "ipython3",
   "version": "3.13.2"
  }
 },
 "nbformat": 4,
 "nbformat_minor": 2
}
